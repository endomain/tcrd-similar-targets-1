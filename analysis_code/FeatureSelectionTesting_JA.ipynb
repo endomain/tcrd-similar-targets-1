{
 "cells": [
  {
   "cell_type": "code",
   "execution_count": 248,
   "metadata": {
    "collapsed": false
   },
   "outputs": [],
   "source": [
    "import pandas as pd\n",
    "import numpy as np\n",
    "from scipy.stats import logistic\n",
    "import scipy.optimize\n",
    "from sklearn.feature_selection import mutual_info_classif\n",
    "from sklearn.feature_selection import chi2\n",
    "from sklearn.feature_selection import f_regression\n",
    "from sklearn.linear_model import LogisticRegressionCV\n",
    "from sklearn.model_selection import train_test_split"
   ]
  },
  {
   "cell_type": "code",
   "execution_count": 262,
   "metadata": {
    "collapsed": false
   },
   "outputs": [
    {
     "data": {
      "text/plain": [
       "(250, 101502)"
      ]
     },
     "execution_count": 262,
     "metadata": {},
     "output_type": "execute_result"
    }
   ],
   "source": [
    "# Loading Data file with X and y in one large matrix\n",
    "d = pd.read_csv('OriginalXy.csv')\n",
    "(m,n) = d.shape\n",
    "d = d.ix[:,1:n+1]\n",
    "d.shape"
   ]
  },
  {
   "cell_type": "code",
   "execution_count": 263,
   "metadata": {
    "collapsed": false
   },
   "outputs": [],
   "source": [
    "colname = d.columns.tolist()\n",
    "colname.remove('y')\n",
    "X = d[colname]\n",
    "y = d[['y']]\n",
    "y = np.ravel(y)"
   ]
  },
  {
   "cell_type": "code",
   "execution_count": 265,
   "metadata": {
    "collapsed": false
   },
   "outputs": [],
   "source": [
    "# Chi-square significance assessment\n",
    "chifit,pval  = chi2(X, y)\n",
    "index = np.ravel(np.asarray(range(1,101502)))\n",
    "chi1 = pd.DataFrame(chifit,index)\n",
    "chi2 = pd.DataFrame(pval,index)\n",
    "chir = pd.concat([chi1, chi2], axis=1)\n",
    "chir.columns = ['chifit','pval']\n",
    "\n",
    "# Select the columns/features with p value threshold of 0.01 or 0.05\n",
    "sig1 = chir.index[chir.pval < 0.01]\n",
    "sig1 = sig1.tolist()\n",
    "sig2 = chir.index[chir.pval < 0.05]\n",
    "sig2 = sig2.tolist()"
   ]
  },
  {
   "cell_type": "code",
   "execution_count": 322,
   "metadata": {
    "collapsed": false
   },
   "outputs": [],
   "source": [
    "# F-regression significance assessment\n",
    "F,pval2 = f_regression(X,y)\n",
    "F1 = pd.DataFrame(F,index)\n",
    "F2 = pd.DataFrame(pval2,index)\n",
    "F_fit = pd.concat([F1, F2], axis=1)\n",
    "F_fit.columns = ['ffit','pval2']\n",
    "\n",
    "fsig1 = F_fit.index[F_fit.pval2 < 0.01]\n",
    "#sig1 = sig1.tolist()\n",
    "fsig2 = F_fit.index[F_fit.pval2 < 0.05]\n",
    "#sig2 = sig2.tolist()\n",
    "\n",
    "colname3 = [colname[i] for i in fsig1]\n",
    "X_n = X.ix[:,colname3]\n",
    "\n",
    "colname2 = [colname[i] for i in sig2]\n",
    "X_n = X.ix[:,colname2]"
   ]
  },
  {
   "cell_type": "code",
   "execution_count": 316,
   "metadata": {
    "collapsed": false
   },
   "outputs": [],
   "source": [
    "# Spliting data into training and testing sets\n",
    "split = train_test_split(range(0,250),train_size = 0.8)[0]\n",
    "opposplit = [x for x in range(0,250) if x not in split]\n",
    "trainX = X_n.ix[split,:]\n",
    "trainy = y[split]\n",
    "testX = X_n.ix[opposplit,:]\n",
    "testy = y[opposplit]"
   ]
  },
  {
   "cell_type": "code",
   "execution_count": 317,
   "metadata": {
    "collapsed": false
   },
   "outputs": [],
   "source": [
    "# L-1 Logistic Regression\n",
    "lg = LogisticRegressionCV(cv=5,penalty='l1',solver='liblinear')\n",
    "lfit = lg.fit(trainX,trainy)"
   ]
  },
  {
   "cell_type": "code",
   "execution_count": 318,
   "metadata": {
    "collapsed": false
   },
   "outputs": [
    {
     "data": {
      "text/plain": [
       "0.44"
      ]
     },
     "execution_count": 318,
     "metadata": {},
     "output_type": "execute_result"
    }
   ],
   "source": [
    "# Get prediciton result\n",
    "lfit = lg.fit(trainX,trainy)\n",
    "\n",
    "# prediction by 0-1 class\n",
    "ypred = lfit.predict(testX)\n",
    "# prediction by probability\n",
    "ypred2 = lfit.predict_proba(testX)\n",
    "\n",
    "# Get 0-1 loss function (misclassification)\n",
    "np.mean(ypred <> testy)"
   ]
  },
  {
   "cell_type": "code",
   "execution_count": 319,
   "metadata": {
    "collapsed": false
   },
   "outputs": [
    {
     "data": {
      "text/plain": [
       "0.56000000000000005"
      ]
     },
     "execution_count": 319,
     "metadata": {},
     "output_type": "execute_result"
    }
   ],
   "source": [
    "# Get prediction accuracy through built in function \n",
    "lfit.score(testX, testy)"
   ]
  }
 ],
 "metadata": {
  "kernelspec": {
   "display_name": "Python 2",
   "language": "python",
   "name": "python2"
  },
  "language_info": {
   "codemirror_mode": {
    "name": "ipython",
    "version": 2
   },
   "file_extension": ".py",
   "mimetype": "text/x-python",
   "name": "python",
   "nbconvert_exporter": "python",
   "pygments_lexer": "ipython2",
   "version": "2.7.13"
  }
 },
 "nbformat": 4,
 "nbformat_minor": 2
}
